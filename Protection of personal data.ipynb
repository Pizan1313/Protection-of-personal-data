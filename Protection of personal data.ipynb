{
 "cells": [
  {
   "cell_type": "markdown",
   "metadata": {
    "toc": true
   },
   "source": [
    "<h1>Содержание<span class=\"tocSkip\"></span></h1>\n",
    "<div class=\"toc\"><ul class=\"toc-item\"><li><span><a href=\"#Loading-data\" data-toc-modified-id=\"Loading-data-1\">Loading data</a></span><ul class=\"toc-item\"><li><span><a href=\"#Conclusion\" data-toc-modified-id=\"Conclusion-1.1\">Conclusion</a></span></li></ul></li><li><span><a href=\"#Matrix-multiplication\" data-toc-modified-id=\"Matrix-multiplication-2\">Matrix multiplication</a></span><ul class=\"toc-item\"><li><span><a href=\"#Conclusion:\" data-toc-modified-id=\"Conclusion:-2.1\">Conclusion:</a></span></li></ul></li><li><span><a href=\"#Conversion-algorithm\" data-toc-modified-id=\"Conversion-algorithm-3\">Conversion algorithm</a></span></li><li><span><a href=\"#Algorithm-verification\" data-toc-modified-id=\"Algorithm-verification-4\">Algorithm verification</a></span><ul class=\"toc-item\"><li><span><a href=\"#Conclusion\" data-toc-modified-id=\"Conclusion-4.1\">Conclusion</a></span></li></ul></li></ul></div>"
   ]
  },
  {
   "cell_type": "markdown",
   "metadata": {},
   "source": [
    "# Protection of clients' personal data"
   ]
  },
  {
   "cell_type": "markdown",
   "metadata": {},
   "source": [
    "We need to protect the data of the insurance company's customers. Developing a data transformation method is necessary so recovering personal information from them isn't accessible. It is required to justify the correctness of its work.\n",
    "\n",
    "You need to protect the data so that the quality of the machine learning models does not deteriorate during the transformation. There is no need to select the best model."
   ]
  },
  {
   "cell_type": "markdown",
   "metadata": {},
   "source": [
    "## Loading data"
   ]
  },
  {
   "cell_type": "code",
   "execution_count": 1,
   "metadata": {},
   "outputs": [],
   "source": [
    "import pandas as pd\n",
    "import numpy as np\n",
    "import matplotlib.pyplot as plt\n",
    "import seaborn as sns\n",
    "from sklearn.model_selection import train_test_split\n",
    "from sklearn.preprocessing import StandardScaler\n",
    "from sklearn.metrics import r2_score\n",
    "\n",
    "import warnings\n",
    "warnings.filterwarnings('ignore')\n",
    "sns.set(rc={'figure.figsize':(12,7)})"
   ]
  },
  {
   "cell_type": "code",
   "execution_count": 2,
   "metadata": {
    "scrolled": false
   },
   "outputs": [
    {
     "name": "stdout",
     "output_type": "stream",
     "text": [
      "<class 'pandas.core.frame.DataFrame'>\n",
      "RangeIndex: 5000 entries, 0 to 4999\n",
      "Data columns (total 5 columns):\n",
      " #   Column             Non-Null Count  Dtype  \n",
      "---  ------             --------------  -----  \n",
      " 0   Пол                5000 non-null   int64  \n",
      " 1   Возраст            5000 non-null   float64\n",
      " 2   Зарплата           5000 non-null   float64\n",
      " 3   Члены семьи        5000 non-null   int64  \n",
      " 4   Страховые выплаты  5000 non-null   int64  \n",
      "dtypes: float64(2), int64(3)\n",
      "memory usage: 195.4 KB\n"
     ]
    },
    {
     "data": {
      "text/plain": [
       "None"
      ]
     },
     "metadata": {},
     "output_type": "display_data"
    },
    {
     "data": {
      "text/html": [
       "<div>\n",
       "<style scoped>\n",
       "    .dataframe tbody tr th:only-of-type {\n",
       "        vertical-align: middle;\n",
       "    }\n",
       "\n",
       "    .dataframe tbody tr th {\n",
       "        vertical-align: top;\n",
       "    }\n",
       "\n",
       "    .dataframe thead th {\n",
       "        text-align: right;\n",
       "    }\n",
       "</style>\n",
       "<table border=\"1\" class=\"dataframe\">\n",
       "  <thead>\n",
       "    <tr style=\"text-align: right;\">\n",
       "      <th></th>\n",
       "      <th>Пол</th>\n",
       "      <th>Возраст</th>\n",
       "      <th>Зарплата</th>\n",
       "      <th>Члены семьи</th>\n",
       "      <th>Страховые выплаты</th>\n",
       "    </tr>\n",
       "  </thead>\n",
       "  <tbody>\n",
       "    <tr>\n",
       "      <th>count</th>\n",
       "      <td>5000.000000</td>\n",
       "      <td>5000.000000</td>\n",
       "      <td>5000.000000</td>\n",
       "      <td>5000.000000</td>\n",
       "      <td>5000.000000</td>\n",
       "    </tr>\n",
       "    <tr>\n",
       "      <th>mean</th>\n",
       "      <td>0.499000</td>\n",
       "      <td>30.952800</td>\n",
       "      <td>39916.360000</td>\n",
       "      <td>1.194200</td>\n",
       "      <td>0.148000</td>\n",
       "    </tr>\n",
       "    <tr>\n",
       "      <th>std</th>\n",
       "      <td>0.500049</td>\n",
       "      <td>8.440807</td>\n",
       "      <td>9900.083569</td>\n",
       "      <td>1.091387</td>\n",
       "      <td>0.463183</td>\n",
       "    </tr>\n",
       "    <tr>\n",
       "      <th>min</th>\n",
       "      <td>0.000000</td>\n",
       "      <td>18.000000</td>\n",
       "      <td>5300.000000</td>\n",
       "      <td>0.000000</td>\n",
       "      <td>0.000000</td>\n",
       "    </tr>\n",
       "    <tr>\n",
       "      <th>25%</th>\n",
       "      <td>0.000000</td>\n",
       "      <td>24.000000</td>\n",
       "      <td>33300.000000</td>\n",
       "      <td>0.000000</td>\n",
       "      <td>0.000000</td>\n",
       "    </tr>\n",
       "    <tr>\n",
       "      <th>50%</th>\n",
       "      <td>0.000000</td>\n",
       "      <td>30.000000</td>\n",
       "      <td>40200.000000</td>\n",
       "      <td>1.000000</td>\n",
       "      <td>0.000000</td>\n",
       "    </tr>\n",
       "    <tr>\n",
       "      <th>75%</th>\n",
       "      <td>1.000000</td>\n",
       "      <td>37.000000</td>\n",
       "      <td>46600.000000</td>\n",
       "      <td>2.000000</td>\n",
       "      <td>0.000000</td>\n",
       "    </tr>\n",
       "    <tr>\n",
       "      <th>max</th>\n",
       "      <td>1.000000</td>\n",
       "      <td>65.000000</td>\n",
       "      <td>79000.000000</td>\n",
       "      <td>6.000000</td>\n",
       "      <td>5.000000</td>\n",
       "    </tr>\n",
       "  </tbody>\n",
       "</table>\n",
       "</div>"
      ],
      "text/plain": [
       "               Пол      Возраст      Зарплата  Члены семьи  Страховые выплаты\n",
       "count  5000.000000  5000.000000   5000.000000  5000.000000        5000.000000\n",
       "mean      0.499000    30.952800  39916.360000     1.194200           0.148000\n",
       "std       0.500049     8.440807   9900.083569     1.091387           0.463183\n",
       "min       0.000000    18.000000   5300.000000     0.000000           0.000000\n",
       "25%       0.000000    24.000000  33300.000000     0.000000           0.000000\n",
       "50%       0.000000    30.000000  40200.000000     1.000000           0.000000\n",
       "75%       1.000000    37.000000  46600.000000     2.000000           0.000000\n",
       "max       1.000000    65.000000  79000.000000     6.000000           5.000000"
      ]
     },
     "metadata": {},
     "output_type": "display_data"
    },
    {
     "data": {
      "text/html": [
       "<div>\n",
       "<style scoped>\n",
       "    .dataframe tbody tr th:only-of-type {\n",
       "        vertical-align: middle;\n",
       "    }\n",
       "\n",
       "    .dataframe tbody tr th {\n",
       "        vertical-align: top;\n",
       "    }\n",
       "\n",
       "    .dataframe thead th {\n",
       "        text-align: right;\n",
       "    }\n",
       "</style>\n",
       "<table border=\"1\" class=\"dataframe\">\n",
       "  <thead>\n",
       "    <tr style=\"text-align: right;\">\n",
       "      <th></th>\n",
       "      <th>Пол</th>\n",
       "      <th>Возраст</th>\n",
       "      <th>Зарплата</th>\n",
       "      <th>Члены семьи</th>\n",
       "      <th>Страховые выплаты</th>\n",
       "    </tr>\n",
       "  </thead>\n",
       "  <tbody>\n",
       "    <tr>\n",
       "      <th>3183</th>\n",
       "      <td>0</td>\n",
       "      <td>33.0</td>\n",
       "      <td>39000.0</td>\n",
       "      <td>4</td>\n",
       "      <td>0</td>\n",
       "    </tr>\n",
       "    <tr>\n",
       "      <th>1071</th>\n",
       "      <td>0</td>\n",
       "      <td>50.0</td>\n",
       "      <td>43100.0</td>\n",
       "      <td>2</td>\n",
       "      <td>2</td>\n",
       "    </tr>\n",
       "    <tr>\n",
       "      <th>2640</th>\n",
       "      <td>1</td>\n",
       "      <td>39.0</td>\n",
       "      <td>42100.0</td>\n",
       "      <td>0</td>\n",
       "      <td>0</td>\n",
       "    </tr>\n",
       "    <tr>\n",
       "      <th>2282</th>\n",
       "      <td>0</td>\n",
       "      <td>20.0</td>\n",
       "      <td>34800.0</td>\n",
       "      <td>0</td>\n",
       "      <td>0</td>\n",
       "    </tr>\n",
       "    <tr>\n",
       "      <th>1595</th>\n",
       "      <td>0</td>\n",
       "      <td>41.0</td>\n",
       "      <td>40000.0</td>\n",
       "      <td>4</td>\n",
       "      <td>0</td>\n",
       "    </tr>\n",
       "  </tbody>\n",
       "</table>\n",
       "</div>"
      ],
      "text/plain": [
       "      Пол  Возраст  Зарплата  Члены семьи  Страховые выплаты\n",
       "3183    0     33.0   39000.0            4                  0\n",
       "1071    0     50.0   43100.0            2                  2\n",
       "2640    1     39.0   42100.0            0                  0\n",
       "2282    0     20.0   34800.0            0                  0\n",
       "1595    0     41.0   40000.0            4                  0"
      ]
     },
     "metadata": {},
     "output_type": "display_data"
    }
   ],
   "source": [
    "df = pd.read_csv('insurance.csv')\n",
    "display(df.info(), df.describe(), df.sample(5,random_state=12345))"
   ]
  },
  {
   "cell_type": "markdown",
   "metadata": {},
   "source": [
    "<div style='border-radius: 15px; box-shadow: 2px 2px 2px; border: 1px solid green; padding: 20px'>\n",
    "\n",
    "We have data on 5,000 customers. We know the following about them:\n",
    "- Gender (Boolean value)\n",
    "- Age (from 18 to 65 years old)\n",
    "- Salary (from 5300 to 79000 conventional units)\n",
    "- Number of family members (from 0 to 6)\n",
    "- Number of insurance payments (from 0 to 5)\n",
    "    \n",
    "There are no gaps in the data, and all values are within normal limits.\n",
    "    \n",
    "<hr>\n",
    "\n",
    "- It is necessary to look at the unique values in the data and double-check if all the values are in order.\n",
    "- Bring data to the required formats and reduce the weight of the table\n",
    "</div>"
   ]
  },
  {
   "cell_type": "code",
   "execution_count": 3,
   "metadata": {
    "scrolled": false
   },
   "outputs": [
    {
     "name": "stdout",
     "output_type": "stream",
     "text": [
      "unique values in column Пол: \n",
      " [0, 1] \n",
      "\n",
      "unique values in column Возраст: \n",
      " [18.0, 19.0, 20.0, 21.0, 22.0, 23.0, 24.0, 25.0, 26.0, 27.0, 28.0, 29.0, 30.0, 31.0, 32.0, 33.0, 34.0, 35.0, 36.0, 37.0, 38.0, 39.0, 40.0, 41.0, 42.0, 43.0, 44.0, 45.0, 46.0, 47.0, 48.0, 49.0, 50.0, 51.0, 52.0, 53.0, 54.0, 55.0, 56.0, 57.0, 58.0, 59.0, 60.0, 61.0, 62.0, 65.0] \n",
      "\n",
      "unique values in column Зарплата: \n",
      " [5300.0, 6000.0, 7400.0, 8900.0, 9800.0, 10000.0, 10600.0, 10800.0, 11000.0, 11200.0, 11300.0, 12200.0, 12900.0, 13000.0, 13200.0, 13300.0, 13400.0, 13500.0, 13800.0, 13900.0, 14100.0, 14300.0, 14400.0, 14500.0, 14600.0, 14700.0, 15000.0, 15100.0, 15200.0, 15600.0, 15700.0, 15900.0, 16000.0, 16200.0, 16300.0, 16400.0, 16500.0, 16600.0, 16700.0, 17000.0, 17100.0, 17300.0, 17400.0, 17500.0, 17600.0, 17700.0, 17800.0, 17900.0, 18100.0, 18200.0, 18300.0, 18400.0, 18600.0, 18700.0, 18800.0, 18900.0, 19000.0, 19100.0, 19200.0, 19300.0, 19400.0, 19600.0, 19700.0, 19900.0, 20000.0, 20100.0, 20200.0, 20300.0, 20400.0, 20500.0, 20600.0, 20700.0, 20800.0, 20900.0, 21000.0, 21100.0, 21200.0, 21300.0, 21400.0, 21500.0, 21600.0, 21700.0, 21800.0, 21900.0, 22000.0, 22100.0, 22200.0, 22300.0, 22500.0, 22600.0, 22700.0, 22800.0, 22900.0, 23000.0, 23100.0, 23200.0, 23300.0, 23400.0, 23500.0, 23600.0, 23700.0, 23800.0, 23900.0, 24000.0, 24100.0, 24200.0, 24300.0, 24400.0, 24500.0, 24600.0, 24700.0, 24800.0, 24900.0, 25000.0, 25100.0, 25200.0, 25300.0, 25400.0, 25500.0, 25600.0, 25700.0, 25800.0, 25900.0, 26000.0, 26100.0, 26200.0, 26300.0, 26400.0, 26500.0, 26600.0, 26700.0, 26800.0, 26900.0, 27000.0, 27100.0, 27200.0, 27300.0, 27400.0, 27500.0, 27600.0, 27700.0, 27800.0, 27900.0, 28000.0, 28100.0, 28200.0, 28300.0, 28400.0, 28500.0, 28600.0, 28700.0, 28800.0, 28900.0, 29000.0, 29100.0, 29200.0, 29300.0, 29400.0, 29500.0, 29600.0, 29700.0, 29800.0, 29900.0, 30000.0, 30100.0, 30200.0, 30300.0, 30400.0, 30500.0, 30600.0, 30700.0, 30800.0, 30900.0, 31000.0, 31100.0, 31200.0, 31300.0, 31400.0, 31500.0, 31600.0, 31700.0, 31800.0, 31900.0, 32000.0, 32100.0, 32200.000000000004, 32300.0, 32400.0, 32500.0, 32600.0, 32700.000000000004, 32800.0, 32900.0, 33000.0, 33100.0, 33200.0, 33300.0, 33400.0, 33500.0, 33600.0, 33700.0, 33800.0, 33900.0, 34000.0, 34100.0, 34200.0, 34300.0, 34400.0, 34500.0, 34600.0, 34700.0, 34800.0, 34900.0, 35000.0, 35100.0, 35200.0, 35300.0, 35400.0, 35500.0, 35600.0, 35700.0, 35800.0, 35900.0, 36000.0, 36100.0, 36200.0, 36300.0, 36400.0, 36500.0, 36600.0, 36700.0, 36800.0, 36900.0, 37000.0, 37100.0, 37200.0, 37300.0, 37400.0, 37500.0, 37600.0, 37700.0, 37800.0, 37900.0, 38000.0, 38100.0, 38200.0, 38300.0, 38400.0, 38500.0, 38600.0, 38700.0, 38800.0, 38900.0, 39000.0, 39100.0, 39200.0, 39300.0, 39400.0, 39500.0, 39600.0, 39700.0, 39800.0, 39900.0, 40000.0, 40100.0, 40200.0, 40300.0, 40400.0, 40500.0, 40600.0, 40700.0, 40800.0, 40900.0, 41000.0, 41100.0, 41200.0, 41300.0, 41400.0, 41500.0, 41600.0, 41700.0, 41800.0, 41900.0, 42000.0, 42100.0, 42200.0, 42300.0, 42400.0, 42500.0, 42600.0, 42700.0, 42800.0, 42900.0, 43000.0, 43100.0, 43200.0, 43300.0, 43400.0, 43500.0, 43600.0, 43700.0, 43800.0, 43900.0, 44000.0, 44100.0, 44200.0, 44300.0, 44400.0, 44500.0, 44600.0, 44700.0, 44800.0, 44900.0, 45000.0, 45100.0, 45200.0, 45300.0, 45400.0, 45500.0, 45600.0, 45700.0, 45800.0, 45900.0, 46000.0, 46100.0, 46200.0, 46300.0, 46400.0, 46500.0, 46600.0, 46700.0, 46800.0, 46900.0, 47000.0, 47100.0, 47200.0, 47300.0, 47400.0, 47500.0, 47600.0, 47700.0, 47800.0, 47900.0, 48000.0, 48100.0, 48200.0, 48300.0, 48400.0, 48500.0, 48600.0, 48700.0, 48800.0, 48900.0, 49000.0, 49100.0, 49200.0, 49300.0, 49400.0, 49500.0, 49600.0, 49700.0, 49800.0, 49900.0, 50000.0, 50100.0, 50200.0, 50300.0, 50400.0, 50500.0, 50600.0, 50700.0, 50800.0, 50900.0, 51000.0, 51100.0, 51200.0, 51300.0, 51400.0, 51500.0, 51600.0, 51700.0, 51800.0, 51900.0, 52000.0, 52100.0, 52200.0, 52300.0, 52400.0, 52500.0, 52600.0, 52700.0, 52800.0, 52900.0, 53000.0, 53100.0, 53200.0, 53300.0, 53400.0, 53500.0, 53600.0, 53700.0, 53800.0, 53900.0, 54000.0, 54100.0, 54200.0, 54300.0, 54400.0, 54500.0, 54600.0, 54700.0, 54800.0, 54900.0, 55000.0, 55100.0, 55200.0, 55300.0, 55400.0, 55500.0, 55600.0, 55700.0, 55800.0, 55900.0, 56000.0, 56100.0, 56200.0, 56300.0, 56400.0, 56500.0, 56600.0, 56700.0, 56800.0, 56900.0, 57000.0, 57100.0, 57200.0, 57300.0, 57400.0, 57500.0, 57600.0, 57700.0, 57800.0, 57900.0, 58000.0, 58100.0, 58200.0, 58300.0, 58400.0, 58500.0, 58600.0, 58700.0, 58800.0, 58900.0, 59000.0, 59100.0, 59200.0, 59300.0, 59500.0, 59600.0, 59700.0, 59800.0, 59900.0, 60000.0, 60100.0, 60200.0, 60300.0, 60400.0, 60500.0, 60600.0, 60700.0, 60900.0, 61000.0, 61200.0, 61300.0, 61400.0, 61500.0, 61700.0, 61800.0, 61900.0, 62000.0, 62100.0, 62200.0, 62300.0, 62400.0, 62500.0, 62600.0, 62700.0, 62800.0, 63100.0, 63200.0, 63300.0, 63400.0, 63500.0, 63600.0, 63700.0, 63800.0, 64000.0, 64099.99999999999, 64400.00000000001, 64800.0, 64900.00000000001, 65099.99999999999, 65200.0, 65300.0, 65900.0, 66100.0, 66300.0, 67100.0, 67200.0, 67700.0, 68000.0, 68400.0, 68500.0, 68900.0, 69200.0, 69400.0, 70000.0, 70500.0, 70600.0, 71400.0, 71600.0, 74800.0, 75200.0, 79000.0] \n",
      "\n",
      "unique values in column Члены семьи: \n",
      " [0, 1, 2, 3, 4, 5, 6] \n",
      "\n",
      "unique values in column Страховые выплаты: \n",
      " [0, 1, 2, 3, 4, 5] \n",
      "\n"
     ]
    }
   ],
   "source": [
    "for column in df.columns:\n",
    "    print(f'unique values in column {column}: \\n',\n",
    "         sorted(df[column].unique()), '\\n')"
   ]
  },
  {
   "cell_type": "markdown",
   "metadata": {},
   "source": [
    "<div style='border-radius: 15px; box-shadow: 2px 2px 2px; border: 1px solid green; padding: 20px'>\n",
    "    \n",
    "There are strange Salary values in the table. As we can see, most of the values are integers and a multiple of 100 conventional units. Some values have odd decimal values; we will round them up. This will not affect the project's final result in any way, but it will allow you to convert the data to an integer type.\n",
    "</div>"
   ]
  },
  {
   "cell_type": "code",
   "execution_count": 4,
   "metadata": {},
   "outputs": [
    {
     "name": "stdout",
     "output_type": "stream",
     "text": [
      "[5300.0, 6000.0, 7400.0, 8900.0, 9800.0, 10000.0, 10600.0, 10800.0, 11000.0, 11200.0, 11300.0, 12200.0, 12900.0, 13000.0, 13200.0, 13300.0, 13400.0, 13500.0, 13800.0, 13900.0, 14100.0, 14300.0, 14400.0, 14500.0, 14600.0, 14700.0, 15000.0, 15100.0, 15200.0, 15600.0, 15700.0, 15900.0, 16000.0, 16200.0, 16300.0, 16400.0, 16500.0, 16600.0, 16700.0, 17000.0, 17100.0, 17300.0, 17400.0, 17500.0, 17600.0, 17700.0, 17800.0, 17900.0, 18100.0, 18200.0, 18300.0, 18400.0, 18600.0, 18700.0, 18800.0, 18900.0, 19000.0, 19100.0, 19200.0, 19300.0, 19400.0, 19600.0, 19700.0, 19900.0, 20000.0, 20100.0, 20200.0, 20300.0, 20400.0, 20500.0, 20600.0, 20700.0, 20800.0, 20900.0, 21000.0, 21100.0, 21200.0, 21300.0, 21400.0, 21500.0, 21600.0, 21700.0, 21800.0, 21900.0, 22000.0, 22100.0, 22200.0, 22300.0, 22500.0, 22600.0, 22700.0, 22800.0, 22900.0, 23000.0, 23100.0, 23200.0, 23300.0, 23400.0, 23500.0, 23600.0, 23700.0, 23800.0, 23900.0, 24000.0, 24100.0, 24200.0, 24300.0, 24400.0, 24500.0, 24600.0, 24700.0, 24800.0, 24900.0, 25000.0, 25100.0, 25200.0, 25300.0, 25400.0, 25500.0, 25600.0, 25700.0, 25800.0, 25900.0, 26000.0, 26100.0, 26200.0, 26300.0, 26400.0, 26500.0, 26600.0, 26700.0, 26800.0, 26900.0, 27000.0, 27100.0, 27200.0, 27300.0, 27400.0, 27500.0, 27600.0, 27700.0, 27800.0, 27900.0, 28000.0, 28100.0, 28200.0, 28300.0, 28400.0, 28500.0, 28600.0, 28700.0, 28800.0, 28900.0, 29000.0, 29100.0, 29200.0, 29300.0, 29400.0, 29500.0, 29600.0, 29700.0, 29800.0, 29900.0, 30000.0, 30100.0, 30200.0, 30300.0, 30400.0, 30500.0, 30600.0, 30700.0, 30800.0, 30900.0, 31000.0, 31100.0, 31200.0, 31300.0, 31400.0, 31500.0, 31600.0, 31700.0, 31800.0, 31900.0, 32000.0, 32100.0, 32200.0, 32300.0, 32400.0, 32500.0, 32600.0, 32700.0, 32800.0, 32900.0, 33000.0, 33100.0, 33200.0, 33300.0, 33400.0, 33500.0, 33600.0, 33700.0, 33800.0, 33900.0, 34000.0, 34100.0, 34200.0, 34300.0, 34400.0, 34500.0, 34600.0, 34700.0, 34800.0, 34900.0, 35000.0, 35100.0, 35200.0, 35300.0, 35400.0, 35500.0, 35600.0, 35700.0, 35800.0, 35900.0, 36000.0, 36100.0, 36200.0, 36300.0, 36400.0, 36500.0, 36600.0, 36700.0, 36800.0, 36900.0, 37000.0, 37100.0, 37200.0, 37300.0, 37400.0, 37500.0, 37600.0, 37700.0, 37800.0, 37900.0, 38000.0, 38100.0, 38200.0, 38300.0, 38400.0, 38500.0, 38600.0, 38700.0, 38800.0, 38900.0, 39000.0, 39100.0, 39200.0, 39300.0, 39400.0, 39500.0, 39600.0, 39700.0, 39800.0, 39900.0, 40000.0, 40100.0, 40200.0, 40300.0, 40400.0, 40500.0, 40600.0, 40700.0, 40800.0, 40900.0, 41000.0, 41100.0, 41200.0, 41300.0, 41400.0, 41500.0, 41600.0, 41700.0, 41800.0, 41900.0, 42000.0, 42100.0, 42200.0, 42300.0, 42400.0, 42500.0, 42600.0, 42700.0, 42800.0, 42900.0, 43000.0, 43100.0, 43200.0, 43300.0, 43400.0, 43500.0, 43600.0, 43700.0, 43800.0, 43900.0, 44000.0, 44100.0, 44200.0, 44300.0, 44400.0, 44500.0, 44600.0, 44700.0, 44800.0, 44900.0, 45000.0, 45100.0, 45200.0, 45300.0, 45400.0, 45500.0, 45600.0, 45700.0, 45800.0, 45900.0, 46000.0, 46100.0, 46200.0, 46300.0, 46400.0, 46500.0, 46600.0, 46700.0, 46800.0, 46900.0, 47000.0, 47100.0, 47200.0, 47300.0, 47400.0, 47500.0, 47600.0, 47700.0, 47800.0, 47900.0, 48000.0, 48100.0, 48200.0, 48300.0, 48400.0, 48500.0, 48600.0, 48700.0, 48800.0, 48900.0, 49000.0, 49100.0, 49200.0, 49300.0, 49400.0, 49500.0, 49600.0, 49700.0, 49800.0, 49900.0, 50000.0, 50100.0, 50200.0, 50300.0, 50400.0, 50500.0, 50600.0, 50700.0, 50800.0, 50900.0, 51000.0, 51100.0, 51200.0, 51300.0, 51400.0, 51500.0, 51600.0, 51700.0, 51800.0, 51900.0, 52000.0, 52100.0, 52200.0, 52300.0, 52400.0, 52500.0, 52600.0, 52700.0, 52800.0, 52900.0, 53000.0, 53100.0, 53200.0, 53300.0, 53400.0, 53500.0, 53600.0, 53700.0, 53800.0, 53900.0, 54000.0, 54100.0, 54200.0, 54300.0, 54400.0, 54500.0, 54600.0, 54700.0, 54800.0, 54900.0, 55000.0, 55100.0, 55200.0, 55300.0, 55400.0, 55500.0, 55600.0, 55700.0, 55800.0, 55900.0, 56000.0, 56100.0, 56200.0, 56300.0, 56400.0, 56500.0, 56600.0, 56700.0, 56800.0, 56900.0, 57000.0, 57100.0, 57200.0, 57300.0, 57400.0, 57500.0, 57600.0, 57700.0, 57800.0, 57900.0, 58000.0, 58100.0, 58200.0, 58300.0, 58400.0, 58500.0, 58600.0, 58700.0, 58800.0, 58900.0, 59000.0, 59100.0, 59200.0, 59300.0, 59500.0, 59600.0, 59700.0, 59800.0, 59900.0, 60000.0, 60100.0, 60200.0, 60300.0, 60400.0, 60500.0, 60600.0, 60700.0, 60900.0, 61000.0, 61200.0, 61300.0, 61400.0, 61500.0, 61700.0, 61800.0, 61900.0, 62000.0, 62100.0, 62200.0, 62300.0, 62400.0, 62500.0, 62600.0, 62700.0, 62800.0, 63100.0, 63200.0, 63300.0, 63400.0, 63500.0, 63600.0, 63700.0, 63800.0, 64000.0, 64100.0, 64400.0, 64800.0, 64900.0, 65100.0, 65200.0, 65300.0, 65900.0, 66100.0, 66300.0, 67100.0, 67200.0, 67700.0, 68000.0, 68400.0, 68500.0, 68900.0, 69200.0, 69400.0, 70000.0, 70500.0, 70600.0, 71400.0, 71600.0, 74800.0, 75200.0, 79000.0]\n"
     ]
    }
   ],
   "source": [
    "df['Зарплата'] = round(df['Зарплата'],0)\n",
    "print(sorted(df['Зарплата'].unique()))"
   ]
  },
  {
   "cell_type": "code",
   "execution_count": 5,
   "metadata": {
    "scrolled": true
   },
   "outputs": [
    {
     "name": "stdout",
     "output_type": "stream",
     "text": [
      "<class 'pandas.core.frame.DataFrame'>\n",
      "RangeIndex: 5000 entries, 0 to 4999\n",
      "Data columns (total 5 columns):\n",
      " #   Column             Non-Null Count  Dtype\n",
      "---  ------             --------------  -----\n",
      " 0   Пол                5000 non-null   int8 \n",
      " 1   Возраст            5000 non-null   int8 \n",
      " 2   Зарплата           5000 non-null   int32\n",
      " 3   Члены семьи        5000 non-null   int8 \n",
      " 4   Страховые выплаты  5000 non-null   int8 \n",
      "dtypes: int32(1), int8(4)\n",
      "memory usage: 39.2 KB\n"
     ]
    }
   ],
   "source": [
    "for column in df.columns:\n",
    "    df[column] = pd.to_numeric(df[column], downcast='integer')\n",
    "df.info()"
   ]
  },
  {
   "cell_type": "markdown",
   "metadata": {},
   "source": [
    "<div style='border-radius: 15px; box-shadow: 2px 2px 2px; border: 1px solid green; padding: 20px'>\n",
    "We cast all values to an integer type, now the data takes the minimum amount of weight\n",
    "</div>"
   ]
  },
  {
   "cell_type": "code",
   "execution_count": 6,
   "metadata": {},
   "outputs": [
    {
     "data": {
      "image/png": "[encoded data removed]",
      "text/plain": [
       "<Figure size 864x504 with 1 Axes>"
      ]
     },
     "metadata": {},
     "output_type": "display_data"
    }
   ],
   "source": [
    "try:\n",
    "    sns.histplot(df['Страховые выплаты'])\n",
    "    plt.xlabel(f'Insurance payments')\n",
    "    plt.show()\n",
    "except:\n",
    "    plt.hist(df['Страховые выплаты'], bins=15)\n",
    "    plt.title(f'Insurance payments')\n",
    "    plt.show()"
   ]
  },
  {
   "attachments": {
    "image-7.png": {
     "image/png": "[encoded data removed]"
    }
   },
   "cell_type": "markdown",
   "metadata": {},
   "source": [
    "<div style='border-radius: 15px; box-shadow: 2px 2px 2px; border: 1px solid green; padding: 20px'>\n",
    "\n",
    "### Conclusion\n",
    "    \n",
    "The data is clean. Lots of zero insurance premiums, it's okay; we're talking about insurance. The lower the insurance payments, the higher the profit. Here, the first column of the histogram is essentially an indicator of the company's success.\n",
    "    \n",
    "![image-7.png](attachment:image-7.png)\n",
    "    \n",
    "We did everything that could be done at the data preparation stage. Duplicates cannot be removed, data without gaps, and file size is reduced by almost five times without loss of information. Strange values in Salary rounded up.\n",
    "</div>"
   ]
  },
  {
   "cell_type": "markdown",
   "metadata": {},
   "source": [
    "## Matrix multiplication"
   ]
  },
  {
   "cell_type": "markdown",
   "metadata": {},
   "source": [
    "<div style='border-radius: 15px; box-shadow: 2px 2px 2px; border: 1px solid green; padding: 20px'>\n",
    "It is necessary to find out and justify the following assumption.\n",
    "The features are multiplied by an invertible matrix. Will the quality of linear regression change?\n",
    "\n",
    "**Answer:** Will not change\n",
    "\n",
    "**Rationale:**\n",
    "</div>"
   ]
  },
  {
   "attachments": {
    "image-2.png": {
     "image/png": "[encoded data removed]"
    },
    "image-3.png": {
     "image/png": "[encoded data removed]"
    },
    "image-4.png": {
     "image/png": "[encoded data removed]"
    },
    "image-5.png": {
     "image/png": "[encoded data removed]"
    },
    "image.png": {
     "image/png": "[encoded data removed]"
    }
   },
   "cell_type": "markdown",
   "metadata": {},
   "source": [
    "<div style='border-radius: 15px; box-shadow: 2px 2px 2px; border: 1px solid green; padding: 20px'>\n",
    "We have the following information:\n",
    "\n",
    "In linear regression, features are represented as a vector of numbers in an n-dimensional space (let's call it X).\n",
    "\n",
    "We can express the learning task in vector form. The training dataset is represented as a matrix X, where rows correspond to objects and columns correspond to features. We denote the parameters of linear regression as w and w0. To obtain a prediction vector a, we multiply the matrix X by the vector w and add the bias term w0. The formula for this is:\n",
    "![image-4.png](attachment:image-4.png)\n",
    "\n",
    "To simplify notation, we add a column of ones to the matrix X (as the zeroth column), and add the bias term w0 to the vector w.\n",
    "![image-5.png](attachment:image-5.png)\n",
    "\n",
    "Next, we multiply the matrix X by the vector w. The bias term is multiplied by a vector of ones (the zeroth column). This gives us the prediction vector a:\n",
    "![image.png](attachment:image.png)\n",
    "\n",
    "The vector y represents the target feature values for the training dataset. We can express the learning task for linear regression with mean squared error (MSE) loss using the following formula:\n",
    "![image-2.png](attachment:image-2.png)\n",
    "\n",
    "The minimum value of MSE is obtained when the weights are equal to this quantity:\n",
    "![image-3.png](attachment:image-3.png)\n",
    "\n",
    "We can derive this formula as follows:\n",
    "\n",
    "- Multiply the transpose of the feature matrix by itself.\n",
    "- Calculate the inverse of the resulting matrix.\n",
    "- Multiply the inverse by the transpose of the feature matrix.\n",
    "- Finally, multiply the result by the vector of target feature values. \n",
    "    \n",
    "We need to prove that when we multiply our feature matrix X by an invertible matrix, the quality of linear regression remains unchanged. In other words, the value of a remains the same.\n",
    "\n",
    "</div>"
   ]
  },
  {
   "cell_type": "markdown",
   "metadata": {},
   "source": [
    "<div style='border-radius: 15px; box-shadow: 2px 2px 2px; border: 1px solid green; padding: 20px'>\n",
    "    \n",
    "<b>Let's introduce some notation</b>\n",
    "<br>\n",
    "    \n",
    "<center> $X$ — feature matrix (zero column consists of ones);</center>\n",
    "<center> $P$ - invertible matrix by which features are multiplied;</center>\n",
    "<center> $X^{'}$ - result of matrix X multiplication by invertible matrix P;</center>\n",
    "<center> $E$ - identity matrix;</center>\n",
    "<center> $y$ — target feature vector;</center>\n",
    "<center> $w$ is the vector of linear regression weights (the zero element is equal to the shift).</center>\n",
    "    \n",
    "\n",
    "\n",
    "<hr>\n",
    "\n",
    "<b>Formulas and signs of matrices necessary for the proof:</b>\n",
    "   \n",
    "1. Prediction formula:\n",
    "\n",
    "<center> $a = Xω$;</center>\n",
    "\n",
    "* Learning task:\n",
    "\n",
    "<center>$w = \\arg\\min_w MSE(Xw, y)$;</center>\n",
    "\n",
    "2. Learning formula:\n",
    "\n",
    "<center>$ω = (X^{T}X)^{-1} X^{T} y$;</center>\n",
    "    \n",
    " \n",
    "3. Feature matrix after multiplication by an invertible matrix:\n",
    "    \n",
    "<center>$X^{'} = XP$.</center>\n",
    "\n",
    "\n",
    "<hr>\n",
    "Signs for matrices:\n",
    "\n",
    "<center>4. $(AB)^{T} = B^{T}A^{T}$;</center>\n",
    "<center>5. $(AB)^{-1} = B^{-1}A^{-1}$;</center>\n",
    "<center>6. $A^{-1}A = AA^{-1} = E$;</center>\n",
    "<center>7. $EA = AE = A$.</center>\n",
    "    \n",
    "</div>"
   ]
  },
  {
   "cell_type": "markdown",
   "metadata": {},
   "source": [
    "<div style='border-radius: 15px; box-shadow: 2px 2px 2px; border: 1px solid green; padding: 20px'>\n",
    "    \n",
    "- Substitute in formula 1 the value of ω from formula 2:\n",
    "\n",
    "<center>$a = X*(X^{T}X)^{-1} X^{T} y$;</center>\n",
    "\n",
    "\n",
    "- Let's write what $a^{'}$ will be equal to for our invertible matrix $X^{'}$:\n",
    "\n",
    "<center>$a^{'} = X^{'}*(X^{'T}X^{'})^{-1} X^{'T} y$;</center>\n",
    "<br>\n",
    "\n",
    "- Substitute the value of $X^{'}$ from formula 3:\n",
    "\n",
    "<center>$a^{'} = XP((XP)^{T}(XP))^{-1} (XP)^{T} y$;</center>\n",
    "<br>\n",
    "\n",
    "- Expand the bracket $(XP)^{T}$ using feature 4:\n",
    "\n",
    "<center>$a^{'} = XP(P^{T}X^{T}(XP))^{-1} P^{T}X^{T} y$;</center>\n",
    "<br>\n",
    "    \n",
    "- Let's use feature 5 for bracket $(P^{T}X^{T}(XP))^{-1}$:\n",
    "<center>$a^{'} = XP(X^{T})^{-1}(P^{T})^{-1}X^{-1}P^{-1} P^{ T}X^{T} y$;</center>\n",
    "<br>\n",
    "\n",
    "- Let's use rule 6 for invertible matrices $P$:\n",
    "\n",
    "<center>$P^{-1}P = PP^{-1} = E$;</center>\n",
    "<center>$(P^{T})^{-1}(P^{T}) = (P^{T})(P^{T})^{-1} = E$;</center >\n",
    "<br>\n",
    "    \n",
    "<center>$a^{'} = XE(X^{T})^{-1}X^{-1}EX^{T} y$;</center>\n",
    "<br>\n",
    "\n",
    "- Let's use feature 7:\n",
    "<center>$a^{'} = X(X^{T})^{-1}X^{-1}X^{T} y$;</center>\n",
    "<br>\n",
    "\n",
    "- Let's use feature 5:\n",
    "<center>$a^{'} = X(X^{T}X)^{-1}X^{T} y$;</center>\n",
    "<br>\n",
    "\n",
    "- As we can see, after a series of transformations, $a^{'}$ turned out to be equal to $a$:\n",
    "<center>$a^{'} = X(X^{T}X)^{-1}X^{T} y = Xω = a$;</center>\n",
    "<br>\n",
    "since according to formulas 1 and 2:\n",
    "<center>$ω = (X^{T}X)^{-1} X^{T} y$;</center>\n",
    "<center>$a = Xω$.</center>\n",
    "\n",
    "### Conclusion:\n",
    "When multiplying the feature matrix by an invertible matrix, the prediction vector $a^{'}$ will not change and will be equal to the original prediction vector $a$.\n",
    "\n",
    "</div>"
   ]
  },
  {
   "cell_type": "markdown",
   "metadata": {},
   "source": [
    "## Conversion algorithm"
   ]
  },
  {
   "cell_type": "markdown",
   "metadata": {},
   "source": [
    "<div style='border-radius: 15px; box-shadow: 2px 2px 2px; border: 1px solid green; padding: 20px'>\n",
    "    \n",
    "**Algorithm**\n",
    "\n",
    "1. Take the Feature Matrix X from the source file\n",
    "2. Create a random invertible Matrix P. It must be a square non-singular matrix, with a height equal to the width of the matrix X.\n",
    "3. Check Matrix P for invertibility. Find the determinant of this matrix (determinant)\n",
    "\n",
    "Invertibility criterion: A matrix is invertible if and only if it is nondegenerate, i.e. its determinant (|P|) is not equal to zero. For non-square matrices and degenerate matrices there are no inverse matrices.\n",
    "\n",
    "4. Transform Feature Matrix: Multiply X and P to get Z Matrix\n",
    "5. Train the model on the Feature Matrix and the Transformed Feature Matrix\n",
    "6. Check that the R2 metrics on the Feature Matrix(X) and Transformed Matrix(Z) are equal\n",
    "</div>"
   ]
  },
  {
   "attachments": {
    "image-3.png": {
     "image/png": "[encoded data removed]"
    },
    "image-4.png": {
     "image/png": "[encoded data removed]"
    }
   },
   "cell_type": "markdown",
   "metadata": {},
   "source": [
    "<div style='border-radius: 15px; box-shadow: 2px 2px 2px; border: 1px solid green; padding: 20px'>\n",
    "    \n",
    "**Rationale**\n",
    "\n",
    "According to the Output we received in paragraph <span><a href=\"#Matrix-multiplication\" data-toc-modified-id=\"Matrix-multiplication-2\">Matrix-multiplication</a></span>, our predictions should not change. Accordingly, the R2 metric should not change either. Because:\n",
    "    \n",
    "The coefficient of determination, or R2 metric, calculates the proportion of the standard error of the model from the MSE of the mean, and then subtracts this value from one. An increase in the metric means an increase in the quality of the model.\n",
    "    \n",
    "![image-3.png](attachment:image-3.png)\n",
    "    \n",
    "The MSE in this formula is the standard deviation, or standard error. It is calculated by the formula:\n",
    "    \n",
    "![image-4.png](attachment:image-4.png)\n",
    "    \n",
    "Therefore, if our predictions for the Feature Matrix and the Transformed Matrix are the same, provided that the dimensions of the matrix Z and X also match, then the coefficient of determination will remain the same.\n",
    "    \n",
    "\n",
    "</div>"
   ]
  },
  {
   "cell_type": "markdown",
   "metadata": {},
   "source": [
    "## Algorithm verification"
   ]
  },
  {
   "cell_type": "markdown",
   "metadata": {},
   "source": [
    "<div style='border-radius: 15px; box-shadow: 2px 2px 2px; border: 1px solid green; padding: 20px'>\n",
    "    \n",
    "Our features will be the feature matrix X.\n",
    "    \n",
    "Based on the size of this matrix, we will create a random matrix P <code>matrix_P</code>. It will be a square nonsingular matrix with a height equal to the width of the features matrix.\n",
    "    \n",
    "Next, we will check the matrix <code>matrix_P</code> for invertibility. To do this, let's find its determinant (determinant) using the function from the NumPy library <code>np.linalg.det()</code>. If the determinant is non-zero, our matrix is invertible, and all the conditions for learning Linear Regression are met. Otherwise, we will create another random matrix and do the same check. We do this as many times as needed.\n",
    "</div>"
   ]
  },
  {
   "cell_type": "code",
   "execution_count": 7,
   "metadata": {},
   "outputs": [
    {
     "data": {
      "text/plain": [
       "array([[ 0.08243137, -0.87061913,  0.06862122, -0.15471271],\n",
       "       [-0.65087247, -0.23699744,  0.19403388, -2.45014644],\n",
       "       [-0.34411279, -0.38327663, -1.02802661,  1.38546141],\n",
       "       [-1.14808897, -0.5126578 ,  0.71973555,  0.01364075]])"
      ]
     },
     "metadata": {},
     "output_type": "display_data"
    },
    {
     "data": {
      "text/plain": [
       "3.5809236092867134"
      ]
     },
     "metadata": {},
     "output_type": "display_data"
    }
   ],
   "source": [
    "# Divide data into features and target feature\n",
    "features = df.drop('Страховые выплаты', axis=1).values\n",
    "target = df['Страховые выплаты'].values\n",
    "\n",
    "# Let's create a random square matrix P, whose height will be equal to the width of the features matrix\n",
    "matrix_P =np.random.normal(size = (features.shape[1],features.shape[1])) \n",
    "display(matrix_P)\n",
    "\n",
    "# If the determinant of the matrix P is equal to zero, we will create a new random matrix\n",
    "while True: \n",
    "    if np.linalg.det(matrix_P) != 0: \n",
    "        display(np.linalg.det(matrix_P))\n",
    "        break\n",
    "    else: matrix_P = np.random.normal(size = (features.shape[1],features.shape[1]))\n",
    "    \n"
   ]
  },
  {
   "cell_type": "markdown",
   "metadata": {},
   "source": [
    "<div style='border-radius: 15px; box-shadow: 2px 2px 2px; border: 1px solid green; padding: 20px'>\n",
    "    \n",
    "Create a Linear Regression Model from Scratch\n",
    "</div>"
   ]
  },
  {
   "cell_type": "code",
   "execution_count": 8,
   "metadata": {},
   "outputs": [],
   "source": [
    "# Create a Linear Regression Model \n",
    "class LR:\n",
    "    def fit(self, train_features, train_target):\n",
    "        X = np.concatenate((np.ones((train_features.shape[0], 1)), train_features), axis=1)\n",
    "        y = train_target\n",
    "        w =w = np.linalg.inv(X.T @ X) @ X.T @ y\n",
    "        self.w = w[1:]\n",
    "        self.w0 = w[0]\n",
    "\n",
    "    def predict(self, test_features):\n",
    "        return test_features.dot(self.w) + self.w0\n",
    "\n",
    "\n",
    "# Let's create a function for scaling features, separating features into training and test sets, training the model\n",
    "def scale_split_and_train_LR(features,target):\n",
    "    # Scale\n",
    "    scaler = StandardScaler()\n",
    "    scaler.fit(features)\n",
    "    features = scaler.transform(features)\n",
    "    # Split into training and test sets\n",
    "    features_train, features_test, target_train, target_test = train_test_split(features,\n",
    "                                                                                target,\n",
    "                                                                                test_size=0.25,\n",
    "                                                                                random_state=12345)\n",
    "    # Train our model\n",
    "    model = LR()\n",
    "    model.fit(features_train, target_train)\n",
    "    predictions = model.predict(features_test)\n",
    "    r2 = r2_score(target_test, predictions)\n",
    "    print(f'R2 = {round(r2,5)}')\n",
    "    return round(r2,5), features"
   ]
  },
  {
   "cell_type": "markdown",
   "metadata": {},
   "source": [
    "<div style='border-radius: 15px; box-shadow: 2px 2px 2px; border: 1px solid green; padding: 20px'>\n",
    "    \n",
    "Let's train our model on the Feature Matrix <code>features</code> and the Transformed Feature Matrix <code>features@matrix_P</code>. If in both cases our R2 metric (coefficient of determination) is the same, then we have successfully protected customer data.\n",
    "</div>"
   ]
  },
  {
   "cell_type": "code",
   "execution_count": 9,
   "metadata": {},
   "outputs": [
    {
     "name": "stdout",
     "output_type": "stream",
     "text": [
      "R2 = 0.43523\n"
     ]
    }
   ],
   "source": [
    "# Let's train the model on the initial data, before the transformation\n",
    "R2_normal_df, normal_scaled_features = scale_split_and_train_LR(features, target)"
   ]
  },
  {
   "cell_type": "code",
   "execution_count": 10,
   "metadata": {
    "scrolled": true
   },
   "outputs": [
    {
     "name": "stdout",
     "output_type": "stream",
     "text": [
      "R2 = 0.43523\n"
     ]
    }
   ],
   "source": [
    "# Train the model on the transformed data\n",
    "R2_coded_df, coded_scaled_features = scale_split_and_train_LR(features@matrix_P, target)\n",
    "coded_df = pd.DataFrame(data = coded_scaled_features, \n",
    "                      columns = df.drop('Страховые выплаты', axis=1).columns)"
   ]
  },
  {
   "cell_type": "code",
   "execution_count": 11,
   "metadata": {},
   "outputs": [
    {
     "name": "stdout",
     "output_type": "stream",
     "text": [
      "Customer data successfully protected\n"
     ]
    },
    {
     "data": {
      "text/html": [
       "<div>\n",
       "<style scoped>\n",
       "    .dataframe tbody tr th:only-of-type {\n",
       "        vertical-align: middle;\n",
       "    }\n",
       "\n",
       "    .dataframe tbody tr th {\n",
       "        vertical-align: top;\n",
       "    }\n",
       "\n",
       "    .dataframe thead th {\n",
       "        text-align: right;\n",
       "    }\n",
       "</style>\n",
       "<table border=\"1\" class=\"dataframe\">\n",
       "  <thead>\n",
       "    <tr style=\"text-align: right;\">\n",
       "      <th></th>\n",
       "      <th>Determination coefficient</th>\n",
       "    </tr>\n",
       "  </thead>\n",
       "  <tbody>\n",
       "    <tr>\n",
       "      <th>Linear regression</th>\n",
       "      <td>0.43523</td>\n",
       "    </tr>\n",
       "    <tr>\n",
       "      <th>Linear regression after transformation</th>\n",
       "      <td>0.43523</td>\n",
       "    </tr>\n",
       "  </tbody>\n",
       "</table>\n",
       "</div>"
      ],
      "text/plain": [
       "                                        Determination coefficient\n",
       "Linear regression                                         0.43523\n",
       "Linear regression after transformation                    0.43523"
      ]
     },
     "metadata": {},
     "output_type": "display_data"
    }
   ],
   "source": [
    "if R2_normal_df == R2_coded_df:\n",
    "    print('Customer data successfully protected')\n",
    "    final = pd.DataFrame(data = [R2_normal_df,R2_coded_df], \n",
    "                      columns = ['Determination coefficient'], \n",
    "                      index = ['Linear regression','Linear regression after transformation'])\n",
    "    display(final)\n",
    "else: print(\"!ALARM!\")"
   ]
  },
  {
   "cell_type": "markdown",
   "metadata": {},
   "source": [
    "<div style='border-radius: 15px; box-shadow: 2px 2px 2px; border: 1px solid green; padding: 20px'>\n",
    "    \n",
    "Let's write the final feature matrices in a table for more visual conclusions\n",
    "</div>"
   ]
  },
  {
   "cell_type": "code",
   "execution_count": 12,
   "metadata": {},
   "outputs": [],
   "source": [
    "coded_df = pd.DataFrame(data = coded_scaled_features, \n",
    "                      columns = df.drop('Страховые выплаты', axis=1).columns)\n",
    "normal_df = df.drop('Страховые выплаты', axis=1)"
   ]
  },
  {
   "cell_type": "markdown",
   "metadata": {},
   "source": [
    "<div style='border-radius: 15px; box-shadow: 2px 2px 2px; border: 1px solid green; padding: 20px'>\n",
    "    \n",
    "### Conclusion\n",
    "\n",
    "It was necessary to protect the clients' data of the insurance company so that the quality of machine learning models did not deteriorate during the conversion.\n",
    "    \n",
    "A data conversion method has been developed to make recovering personal information difficult.\n",
    "Multiplicating initial personal data by a random matrix was used as a data transformation method. The prediction quality was checked by calculating the coefficient of determination.\n",
    "    \n",
    "Project progress:\n",
    "1. <span><a href=\"#Loading-data\" data-toc-modified-id=\"Loading-data-1\">Loading and exploring data</a></span>;\n",
    "2. <span><a href=\"#Matrix-multiplication\" data-toc-modified-id=\"Matrix-multiplication-2\">Investigation of matrix multiplication</a></span> by an invertible matrix;\n",
    "3. Creation of <span><a href=\"#Conversion-algorithm\" data-toc-modified-id=\"Conversion-algorithm-3\">Conversion algorithm</a></span>;\n",
    "4. <span><a href=\"#Algorithm-verification\" data-toc-modified-id=\"Algorithm-verification-4\">Algorithm verification</a></span> of data transformation and checking the coefficient of determination.\n",
    "\n",
    "As a result of the study of the data, minor inaccuracies were found in the data on clients' salaries. After correcting inaccuracies in the data, they were brought to the required types, and the original file's size was reduced by about five times.\n",
    "        \n",
    "As a result of the project, in paragraph <span><a href=\"#Matrix-multiplication\" data-toc-modified-id=\"Matrix-multiplication-2\">Matrix-multiplication</a></span>, it was theoretically justified why after multiplication features on an invertible matrix, the prediction result, and, accordingly, the coefficient of determination will remain the same.\n",
    "    \n",
    "Further, <span><a href=\"#Conversion-algorithm\" data-toc-modified-id=\"Conversion algorithm-3\">Conversion algorithm</a></span> and from the Initial Feature Matrix <code> features</code> (Represented below)   \n",
    "</div>"
   ]
  },
  {
   "cell_type": "code",
   "execution_count": 13,
   "metadata": {
    "scrolled": true
   },
   "outputs": [
    {
     "data": {
      "text/html": [
       "<div>\n",
       "<style scoped>\n",
       "    .dataframe tbody tr th:only-of-type {\n",
       "        vertical-align: middle;\n",
       "    }\n",
       "\n",
       "    .dataframe tbody tr th {\n",
       "        vertical-align: top;\n",
       "    }\n",
       "\n",
       "    .dataframe thead th {\n",
       "        text-align: right;\n",
       "    }\n",
       "</style>\n",
       "<table border=\"1\" class=\"dataframe\">\n",
       "  <thead>\n",
       "    <tr style=\"text-align: right;\">\n",
       "      <th></th>\n",
       "      <th>Пол</th>\n",
       "      <th>Возраст</th>\n",
       "      <th>Зарплата</th>\n",
       "      <th>Члены семьи</th>\n",
       "    </tr>\n",
       "  </thead>\n",
       "  <tbody>\n",
       "    <tr>\n",
       "      <th>0</th>\n",
       "      <td>1</td>\n",
       "      <td>41</td>\n",
       "      <td>49600</td>\n",
       "      <td>1</td>\n",
       "    </tr>\n",
       "    <tr>\n",
       "      <th>1</th>\n",
       "      <td>0</td>\n",
       "      <td>46</td>\n",
       "      <td>38000</td>\n",
       "      <td>1</td>\n",
       "    </tr>\n",
       "    <tr>\n",
       "      <th>2</th>\n",
       "      <td>0</td>\n",
       "      <td>29</td>\n",
       "      <td>21000</td>\n",
       "      <td>0</td>\n",
       "    </tr>\n",
       "    <tr>\n",
       "      <th>3</th>\n",
       "      <td>0</td>\n",
       "      <td>21</td>\n",
       "      <td>41700</td>\n",
       "      <td>2</td>\n",
       "    </tr>\n",
       "    <tr>\n",
       "      <th>4</th>\n",
       "      <td>1</td>\n",
       "      <td>28</td>\n",
       "      <td>26100</td>\n",
       "      <td>0</td>\n",
       "    </tr>\n",
       "  </tbody>\n",
       "</table>\n",
       "</div>"
      ],
      "text/plain": [
       "   Пол  Возраст  Зарплата  Члены семьи\n",
       "0    1       41     49600            1\n",
       "1    0       46     38000            1\n",
       "2    0       29     21000            0\n",
       "3    0       21     41700            2\n",
       "4    1       28     26100            0"
      ]
     },
     "execution_count": 13,
     "metadata": {},
     "output_type": "execute_result"
    }
   ],
   "source": [
    "normal_df.head()"
   ]
  },
  {
   "cell_type": "markdown",
   "metadata": {},
   "source": [
    "<div style='border-radius: 15px; box-shadow: 2px 2px 2px; border: 1px solid green; padding: 20px'>\n",
    "    \n",
    "We received a transformed and scaled feature matrix (presented below). As we can see, without special training it is very difficult to understand in the converted data which features are encrypted for each client.\n",
    "</div>"
   ]
  },
  {
   "cell_type": "code",
   "execution_count": 14,
   "metadata": {},
   "outputs": [
    {
     "data": {
      "text/html": [
       "<div>\n",
       "<style scoped>\n",
       "    .dataframe tbody tr th:only-of-type {\n",
       "        vertical-align: middle;\n",
       "    }\n",
       "\n",
       "    .dataframe tbody tr th {\n",
       "        vertical-align: top;\n",
       "    }\n",
       "\n",
       "    .dataframe thead th {\n",
       "        text-align: right;\n",
       "    }\n",
       "</style>\n",
       "<table border=\"1\" class=\"dataframe\">\n",
       "  <thead>\n",
       "    <tr style=\"text-align: right;\">\n",
       "      <th></th>\n",
       "      <th>Пол</th>\n",
       "      <th>Возраст</th>\n",
       "      <th>Зарплата</th>\n",
       "      <th>Члены семьи</th>\n",
       "    </tr>\n",
       "  </thead>\n",
       "  <tbody>\n",
       "    <tr>\n",
       "      <th>0</th>\n",
       "      <td>-0.980117</td>\n",
       "      <td>-0.978964</td>\n",
       "      <td>-0.978049</td>\n",
       "      <td>0.976405</td>\n",
       "    </tr>\n",
       "    <tr>\n",
       "      <th>1</th>\n",
       "      <td>0.190775</td>\n",
       "      <td>0.192793</td>\n",
       "      <td>0.193858</td>\n",
       "      <td>-0.196266</td>\n",
       "    </tr>\n",
       "    <tr>\n",
       "      <th>2</th>\n",
       "      <td>1.911760</td>\n",
       "      <td>1.911340</td>\n",
       "      <td>1.910783</td>\n",
       "      <td>-1.910508</td>\n",
       "    </tr>\n",
       "    <tr>\n",
       "      <th>3</th>\n",
       "      <td>-0.178571</td>\n",
       "      <td>-0.179557</td>\n",
       "      <td>-0.180317</td>\n",
       "      <td>0.181961</td>\n",
       "    </tr>\n",
       "    <tr>\n",
       "      <th>4</th>\n",
       "      <td>1.396755</td>\n",
       "      <td>1.395968</td>\n",
       "      <td>1.395575</td>\n",
       "      <td>-1.395157</td>\n",
       "    </tr>\n",
       "  </tbody>\n",
       "</table>\n",
       "</div>"
      ],
      "text/plain": [
       "        Пол   Возраст  Зарплата  Члены семьи\n",
       "0 -0.980117 -0.978964 -0.978049     0.976405\n",
       "1  0.190775  0.192793  0.193858    -0.196266\n",
       "2  1.911760  1.911340  1.910783    -1.910508\n",
       "3 -0.178571 -0.179557 -0.180317     0.181961\n",
       "4  1.396755  1.395968  1.395575    -1.395157"
      ]
     },
     "execution_count": 14,
     "metadata": {},
     "output_type": "execute_result"
    }
   ],
   "source": [
    "coded_df.head()"
   ]
  },
  {
   "cell_type": "markdown",
   "metadata": {},
   "source": [
    "<div style='border-radius: 15px; box-shadow: 2px 2px 2px; border: 1px solid green; padding: 20px'>\n",
    "    \n",
    "After training the Linear Regression on the Initial and Transformed matrices, we obtained the following values of the determination coefficient:\n",
    "    \n",
    "|Training|Coefficient of determination|\n",
    "|:---|:---:|\n",
    "|On the initial data|0.43523|\n",
    "|On the transformed data|0.43523|\n",
    "\n",
    "<hr>\n",
    "    \n",
    "As a result, we managed to create, based on a simple transformation of the multiplication of the initial data by a reversible matrix, the protection of the personal data of the clients of the insurance company.\n",
    "</div>"
   ]
  }
 ],
 "metadata": {
  "ExecuteTimeLog": [
   {
    "duration": 1106,
    "start_time": "2021-12-14T17:30:08.803Z"
   },
   {
    "duration": 4,
    "start_time": "2021-12-14T17:43:57.236Z"
   },
   {
    "duration": 79,
    "start_time": "2021-12-14T17:43:57.242Z"
   },
   {
    "duration": 7,
    "start_time": "2021-12-14T17:43:57.323Z"
   },
   {
    "duration": 5,
    "start_time": "2021-12-14T17:43:57.332Z"
   },
   {
    "duration": 19,
    "start_time": "2021-12-14T17:43:57.339Z"
   },
   {
    "duration": 481,
    "start_time": "2021-12-14T17:43:57.360Z"
   },
   {
    "duration": 4,
    "start_time": "2021-12-14T17:44:40.425Z"
   },
   {
    "duration": 6,
    "start_time": "2021-12-14T17:44:42.486Z"
   },
   {
    "duration": 62,
    "start_time": "2021-12-14T17:44:42.494Z"
   },
   {
    "duration": 7,
    "start_time": "2021-12-14T17:44:42.558Z"
   },
   {
    "duration": 23,
    "start_time": "2021-12-14T17:44:42.568Z"
   },
   {
    "duration": 13,
    "start_time": "2021-12-14T17:44:42.593Z"
   },
   {
    "duration": 3,
    "start_time": "2021-12-14T17:44:42.608Z"
   },
   {
    "duration": 512,
    "start_time": "2021-12-14T17:45:59.451Z"
   },
   {
    "duration": 284,
    "start_time": "2021-12-14T17:46:05.536Z"
   },
   {
    "duration": 295,
    "start_time": "2021-12-14T17:46:30.471Z"
   },
   {
    "duration": 393,
    "start_time": "2021-12-14T17:46:33.061Z"
   },
   {
    "duration": 4,
    "start_time": "2021-12-14T17:48:25.345Z"
   },
   {
    "duration": 41,
    "start_time": "2021-12-14T17:48:25.359Z"
   },
   {
    "duration": 6,
    "start_time": "2021-12-14T17:48:25.402Z"
   },
   {
    "duration": 6,
    "start_time": "2021-12-14T17:48:25.410Z"
   },
   {
    "duration": 9,
    "start_time": "2021-12-14T17:48:25.417Z"
   },
   {
    "duration": 316,
    "start_time": "2021-12-14T17:48:25.428Z"
   },
   {
    "duration": 347,
    "start_time": "2021-12-14T17:48:43.363Z"
   },
   {
    "duration": 282,
    "start_time": "2021-12-14T17:48:57.552Z"
   },
   {
    "duration": 290,
    "start_time": "2021-12-14T17:49:06.952Z"
   },
   {
    "duration": 296,
    "start_time": "2021-12-14T17:49:13.814Z"
   },
   {
    "duration": 4,
    "start_time": "2021-12-14T17:49:17.944Z"
   },
   {
    "duration": 48,
    "start_time": "2021-12-14T17:49:17.950Z"
   },
   {
    "duration": 7,
    "start_time": "2021-12-14T17:49:18.000Z"
   },
   {
    "duration": 8,
    "start_time": "2021-12-14T17:49:18.009Z"
   },
   {
    "duration": 14,
    "start_time": "2021-12-14T17:49:18.019Z"
   },
   {
    "duration": 335,
    "start_time": "2021-12-14T17:49:18.035Z"
   },
   {
    "duration": 301,
    "start_time": "2021-12-14T17:49:18.372Z"
   },
   {
    "duration": 1105,
    "start_time": "2021-12-15T11:02:13.072Z"
   },
   {
    "duration": 53,
    "start_time": "2021-12-15T11:02:14.179Z"
   },
   {
    "duration": 7,
    "start_time": "2021-12-15T11:02:14.235Z"
   },
   {
    "duration": 17,
    "start_time": "2021-12-15T11:02:14.244Z"
   },
   {
    "duration": 35,
    "start_time": "2021-12-15T11:02:14.263Z"
   },
   {
    "duration": 266,
    "start_time": "2021-12-15T11:02:14.300Z"
   },
   {
    "duration": 164,
    "start_time": "2021-12-15T11:48:53.055Z"
   },
   {
    "duration": 8,
    "start_time": "2021-12-15T11:48:58.940Z"
   },
   {
    "duration": 9,
    "start_time": "2021-12-15T11:50:57.655Z"
   },
   {
    "duration": 11,
    "start_time": "2021-12-15T11:52:45.078Z"
   },
   {
    "duration": 11,
    "start_time": "2021-12-15T11:54:25.905Z"
   },
   {
    "duration": 11,
    "start_time": "2021-12-15T11:54:43.919Z"
   },
   {
    "duration": 246,
    "start_time": "2021-12-15T11:57:36.459Z"
   },
   {
    "duration": 195,
    "start_time": "2021-12-15T11:57:50.199Z"
   },
   {
    "duration": 237,
    "start_time": "2021-12-15T11:58:15.578Z"
   },
   {
    "duration": 15,
    "start_time": "2021-12-15T11:59:14.339Z"
   },
   {
    "duration": 20,
    "start_time": "2021-12-15T11:59:33.378Z"
   },
   {
    "duration": 20,
    "start_time": "2021-12-15T11:59:45.571Z"
   },
   {
    "duration": 21,
    "start_time": "2021-12-15T11:59:49.679Z"
   },
   {
    "duration": 21,
    "start_time": "2021-12-15T11:59:51.258Z"
   },
   {
    "duration": 16,
    "start_time": "2021-12-15T11:59:54.422Z"
   },
   {
    "duration": 16,
    "start_time": "2021-12-15T11:59:56.018Z"
   },
   {
    "duration": 18,
    "start_time": "2021-12-15T11:59:57.339Z"
   },
   {
    "duration": 17,
    "start_time": "2021-12-15T11:59:58.478Z"
   },
   {
    "duration": 17,
    "start_time": "2021-12-15T11:59:59.459Z"
   },
   {
    "duration": 21,
    "start_time": "2021-12-15T12:00:01.279Z"
   },
   {
    "duration": 20,
    "start_time": "2021-12-15T12:00:02.320Z"
   },
   {
    "duration": 8,
    "start_time": "2021-12-15T12:02:13.879Z"
   },
   {
    "duration": 60,
    "start_time": "2021-12-15T12:02:22.425Z"
   },
   {
    "duration": 8,
    "start_time": "2021-12-15T12:02:27.098Z"
   },
   {
    "duration": 9,
    "start_time": "2021-12-15T12:02:35.831Z"
   },
   {
    "duration": 9,
    "start_time": "2021-12-15T12:02:47.271Z"
   },
   {
    "duration": 4,
    "start_time": "2021-12-15T12:03:58.966Z"
   },
   {
    "duration": 7,
    "start_time": "2021-12-15T12:04:15.396Z"
   },
   {
    "duration": 174,
    "start_time": "2021-12-15T12:05:48.082Z"
   },
   {
    "duration": 5,
    "start_time": "2021-12-15T12:06:07.801Z"
   },
   {
    "duration": 8,
    "start_time": "2021-12-15T12:06:09.822Z"
   },
   {
    "duration": 59,
    "start_time": "2021-12-15T12:13:32.448Z"
   },
   {
    "duration": 4,
    "start_time": "2021-12-15T12:13:38.823Z"
   },
   {
    "duration": 366,
    "start_time": "2021-12-15T12:14:02.459Z"
   },
   {
    "duration": 3,
    "start_time": "2021-12-15T12:14:25.099Z"
   },
   {
    "duration": 6,
    "start_time": "2021-12-15T12:14:25.878Z"
   },
   {
    "duration": 9,
    "start_time": "2021-12-15T12:14:35.508Z"
   },
   {
    "duration": 3,
    "start_time": "2021-12-15T12:14:36.978Z"
   },
   {
    "duration": 6,
    "start_time": "2021-12-15T12:14:37.923Z"
   },
   {
    "duration": 7,
    "start_time": "2021-12-15T12:14:59.632Z"
   },
   {
    "duration": 10,
    "start_time": "2021-12-15T12:18:20.909Z"
   },
   {
    "duration": 47,
    "start_time": "2021-12-15T12:18:20.921Z"
   },
   {
    "duration": 7,
    "start_time": "2021-12-15T12:18:20.970Z"
   },
   {
    "duration": 4,
    "start_time": "2021-12-15T12:18:20.986Z"
   },
   {
    "duration": 16,
    "start_time": "2021-12-15T12:18:20.992Z"
   },
   {
    "duration": 172,
    "start_time": "2021-12-15T12:18:21.010Z"
   },
   {
    "duration": 291,
    "start_time": "2021-12-15T12:18:20.893Z"
   },
   {
    "duration": 277,
    "start_time": "2021-12-15T12:18:20.908Z"
   },
   {
    "duration": 274,
    "start_time": "2021-12-15T12:18:20.912Z"
   },
   {
    "duration": 272,
    "start_time": "2021-12-15T12:18:20.915Z"
   },
   {
    "duration": 4,
    "start_time": "2021-12-15T12:18:54.984Z"
   },
   {
    "duration": 45,
    "start_time": "2021-12-15T12:18:55.210Z"
   },
   {
    "duration": 6,
    "start_time": "2021-12-15T12:18:55.256Z"
   },
   {
    "duration": 5,
    "start_time": "2021-12-15T12:18:55.293Z"
   },
   {
    "duration": 10,
    "start_time": "2021-12-15T12:18:55.300Z"
   },
   {
    "duration": 346,
    "start_time": "2021-12-15T12:18:55.364Z"
   },
   {
    "duration": 8,
    "start_time": "2021-12-15T12:18:55.712Z"
   },
   {
    "duration": 3,
    "start_time": "2021-12-15T12:18:55.722Z"
   },
   {
    "duration": 9,
    "start_time": "2021-12-15T12:18:55.727Z"
   },
   {
    "duration": 6,
    "start_time": "2021-12-15T12:18:55.738Z"
   },
   {
    "duration": 5,
    "start_time": "2021-12-15T12:20:23.138Z"
   },
   {
    "duration": 52,
    "start_time": "2021-12-15T12:20:23.146Z"
   },
   {
    "duration": 7,
    "start_time": "2021-12-15T12:20:23.200Z"
   },
   {
    "duration": 5,
    "start_time": "2021-12-15T12:20:23.209Z"
   },
   {
    "duration": 12,
    "start_time": "2021-12-15T12:20:23.215Z"
   },
   {
    "duration": 374,
    "start_time": "2021-12-15T12:20:23.229Z"
   },
   {
    "duration": 8,
    "start_time": "2021-12-15T12:20:23.605Z"
   },
   {
    "duration": 5,
    "start_time": "2021-12-15T12:20:23.615Z"
   },
   {
    "duration": 7,
    "start_time": "2021-12-15T12:20:23.623Z"
   },
   {
    "duration": 8,
    "start_time": "2021-12-15T12:20:23.632Z"
   },
   {
    "duration": 85,
    "start_time": "2021-12-15T12:21:26.507Z"
   },
   {
    "duration": 4,
    "start_time": "2021-12-15T12:21:50.564Z"
   },
   {
    "duration": 66,
    "start_time": "2021-12-15T12:21:51.764Z"
   },
   {
    "duration": 7,
    "start_time": "2021-12-15T12:21:56.663Z"
   },
   {
    "duration": 9,
    "start_time": "2021-12-15T12:22:09.178Z"
   },
   {
    "duration": 3,
    "start_time": "2021-12-15T12:22:11.309Z"
   },
   {
    "duration": 7,
    "start_time": "2021-12-15T12:22:12.595Z"
   },
   {
    "duration": 3,
    "start_time": "2021-12-15T12:22:58.589Z"
   },
   {
    "duration": 458,
    "start_time": "2021-12-15T12:22:58.979Z"
   },
   {
    "duration": 3,
    "start_time": "2021-12-15T12:23:14.875Z"
   },
   {
    "duration": 8,
    "start_time": "2021-12-15T12:23:15.468Z"
   },
   {
    "duration": 4,
    "start_time": "2021-12-15T12:24:40.113Z"
   },
   {
    "duration": 7,
    "start_time": "2021-12-15T12:24:40.913Z"
   },
   {
    "duration": 189,
    "start_time": "2021-12-15T12:24:42.398Z"
   },
   {
    "duration": 7,
    "start_time": "2021-12-15T12:24:48.788Z"
   },
   {
    "duration": 10,
    "start_time": "2021-12-15T12:24:55.213Z"
   },
   {
    "duration": 6,
    "start_time": "2021-12-15T12:26:28.463Z"
   },
   {
    "duration": 6,
    "start_time": "2021-12-15T12:26:29.589Z"
   },
   {
    "duration": 6,
    "start_time": "2021-12-15T12:26:30.839Z"
   },
   {
    "duration": 6,
    "start_time": "2021-12-15T12:26:54.334Z"
   },
   {
    "duration": 6,
    "start_time": "2021-12-15T12:26:54.854Z"
   },
   {
    "duration": 7,
    "start_time": "2021-12-15T12:26:55.865Z"
   },
   {
    "duration": 6,
    "start_time": "2021-12-15T12:29:09.860Z"
   },
   {
    "duration": 6,
    "start_time": "2021-12-15T12:29:27.013Z"
   },
   {
    "duration": 7,
    "start_time": "2021-12-15T12:29:27.554Z"
   },
   {
    "duration": 7,
    "start_time": "2021-12-15T12:29:28.541Z"
   },
   {
    "duration": 61,
    "start_time": "2021-12-15T12:30:08.244Z"
   },
   {
    "duration": 6,
    "start_time": "2021-12-15T12:30:13.783Z"
   },
   {
    "duration": 6,
    "start_time": "2021-12-15T12:30:14.288Z"
   },
   {
    "duration": 7,
    "start_time": "2021-12-15T12:30:15.349Z"
   },
   {
    "duration": 6,
    "start_time": "2021-12-15T12:30:21.874Z"
   },
   {
    "duration": 7,
    "start_time": "2021-12-15T12:30:22.334Z"
   },
   {
    "duration": 8,
    "start_time": "2021-12-15T12:30:22.799Z"
   },
   {
    "duration": 5,
    "start_time": "2021-12-15T12:30:37.219Z"
   },
   {
    "duration": 50,
    "start_time": "2021-12-15T12:30:37.233Z"
   },
   {
    "duration": 7,
    "start_time": "2021-12-15T12:30:37.284Z"
   },
   {
    "duration": 12,
    "start_time": "2021-12-15T12:30:37.292Z"
   },
   {
    "duration": 10,
    "start_time": "2021-12-15T12:30:37.306Z"
   },
   {
    "duration": 353,
    "start_time": "2021-12-15T12:30:37.318Z"
   },
   {
    "duration": 17,
    "start_time": "2021-12-15T12:30:37.674Z"
   },
   {
    "duration": 3,
    "start_time": "2021-12-15T12:30:37.693Z"
   },
   {
    "duration": 10,
    "start_time": "2021-12-15T12:30:37.698Z"
   },
   {
    "duration": 6,
    "start_time": "2021-12-15T12:30:37.709Z"
   },
   {
    "duration": 4,
    "start_time": "2021-12-15T12:30:37.716Z"
   },
   {
    "duration": 9,
    "start_time": "2021-12-15T12:30:37.721Z"
   },
   {
    "duration": 6,
    "start_time": "2021-12-15T12:30:37.732Z"
   },
   {
    "duration": 4,
    "start_time": "2021-12-15T12:33:03.789Z"
   },
   {
    "duration": 5,
    "start_time": "2021-12-15T12:33:04.480Z"
   },
   {
    "duration": 6,
    "start_time": "2021-12-15T12:33:04.794Z"
   },
   {
    "duration": 4,
    "start_time": "2021-12-15T12:33:04.899Z"
   },
   {
    "duration": 6,
    "start_time": "2021-12-15T12:33:05.000Z"
   },
   {
    "duration": 7,
    "start_time": "2021-12-15T12:33:05.694Z"
   },
   {
    "duration": 15,
    "start_time": "2021-12-15T12:37:49.760Z"
   },
   {
    "duration": 9,
    "start_time": "2021-12-15T12:38:04.134Z"
   },
   {
    "duration": 13,
    "start_time": "2021-12-15T12:38:46.324Z"
   },
   {
    "duration": 6,
    "start_time": "2021-12-15T12:42:18.560Z"
   },
   {
    "duration": 7,
    "start_time": "2021-12-15T12:42:19.720Z"
   },
   {
    "duration": 20,
    "start_time": "2021-12-15T12:42:21.019Z"
   },
   {
    "duration": 61,
    "start_time": "2021-12-15T12:44:19.775Z"
   },
   {
    "duration": 7,
    "start_time": "2021-12-15T12:44:20.185Z"
   },
   {
    "duration": 6,
    "start_time": "2021-12-15T12:44:29.464Z"
   },
   {
    "duration": 7,
    "start_time": "2021-12-15T12:44:29.654Z"
   },
   {
    "duration": 7,
    "start_time": "2021-12-15T12:44:29.965Z"
   },
   {
    "duration": 6,
    "start_time": "2021-12-15T12:46:45.230Z"
   },
   {
    "duration": 350,
    "start_time": "2021-12-15T12:46:46.225Z"
   },
   {
    "duration": 5,
    "start_time": "2021-12-15T12:46:53.010Z"
   },
   {
    "duration": 8,
    "start_time": "2021-12-15T12:46:53.584Z"
   },
   {
    "duration": 7,
    "start_time": "2021-12-15T12:46:54.710Z"
   },
   {
    "duration": 4,
    "start_time": "2021-12-15T12:47:01.535Z"
   },
   {
    "duration": 6,
    "start_time": "2021-12-15T12:47:10.099Z"
   },
   {
    "duration": 7,
    "start_time": "2021-12-15T12:47:10.484Z"
   },
   {
    "duration": 7,
    "start_time": "2021-12-15T12:47:11.010Z"
   },
   {
    "duration": 4,
    "start_time": "2021-12-15T12:47:14.146Z"
   },
   {
    "duration": 62,
    "start_time": "2021-12-15T12:48:01.160Z"
   },
   {
    "duration": 60,
    "start_time": "2021-12-15T12:48:12.939Z"
   },
   {
    "duration": 6,
    "start_time": "2021-12-15T12:48:23.700Z"
   },
   {
    "duration": 8,
    "start_time": "2021-12-15T12:48:24.439Z"
   },
   {
    "duration": 58,
    "start_time": "2021-12-15T12:48:26.360Z"
   },
   {
    "duration": 55,
    "start_time": "2021-12-15T12:48:47.290Z"
   },
   {
    "duration": 56,
    "start_time": "2021-12-15T12:49:40.390Z"
   },
   {
    "duration": 6,
    "start_time": "2021-12-15T12:49:52.974Z"
   },
   {
    "duration": 7,
    "start_time": "2021-12-15T12:49:53.349Z"
   },
   {
    "duration": 8,
    "start_time": "2021-12-15T12:49:54.004Z"
   },
   {
    "duration": 60,
    "start_time": "2021-12-15T12:49:54.560Z"
   },
   {
    "duration": 54,
    "start_time": "2021-12-15T12:50:01.585Z"
   },
   {
    "duration": 6,
    "start_time": "2021-12-15T12:50:06.404Z"
   },
   {
    "duration": 7,
    "start_time": "2021-12-15T12:50:11.179Z"
   },
   {
    "duration": 8,
    "start_time": "2021-12-15T12:50:28.135Z"
   },
   {
    "duration": 8,
    "start_time": "2021-12-15T12:50:38.604Z"
   },
   {
    "duration": 8,
    "start_time": "2021-12-15T12:50:53.346Z"
   },
   {
    "duration": 4,
    "start_time": "2021-12-15T13:15:04.507Z"
   },
   {
    "duration": 3,
    "start_time": "2021-12-15T13:15:12.968Z"
   },
   {
    "duration": 3,
    "start_time": "2021-12-15T13:15:18.852Z"
   },
   {
    "duration": 3,
    "start_time": "2021-12-15T13:15:22.258Z"
   },
   {
    "duration": 7,
    "start_time": "2021-12-15T13:15:25.168Z"
   },
   {
    "duration": 8,
    "start_time": "2021-12-15T13:15:39.917Z"
   },
   {
    "duration": 5,
    "start_time": "2021-12-15T13:18:35.318Z"
   },
   {
    "duration": 7,
    "start_time": "2021-12-15T13:18:36.728Z"
   },
   {
    "duration": 7,
    "start_time": "2021-12-15T13:18:37.553Z"
   },
   {
    "duration": 5,
    "start_time": "2021-12-15T13:18:44.647Z"
   },
   {
    "duration": 4,
    "start_time": "2021-12-15T13:19:00.473Z"
   },
   {
    "duration": 178,
    "start_time": "2021-12-15T13:20:04.827Z"
   },
   {
    "duration": 4,
    "start_time": "2021-12-15T13:20:26.877Z"
   },
   {
    "duration": 12,
    "start_time": "2021-12-15T13:20:31.877Z"
   },
   {
    "duration": 4,
    "start_time": "2021-12-15T13:20:43.808Z"
   },
   {
    "duration": 11,
    "start_time": "2021-12-15T13:21:57.948Z"
   },
   {
    "duration": 8,
    "start_time": "2021-12-15T13:22:07.147Z"
   },
   {
    "duration": 187,
    "start_time": "2021-12-15T13:22:14.557Z"
   },
   {
    "duration": 11,
    "start_time": "2021-12-15T13:22:18.673Z"
   },
   {
    "duration": 10,
    "start_time": "2021-12-15T13:22:19.872Z"
   },
   {
    "duration": 12,
    "start_time": "2021-12-15T13:25:46.297Z"
   },
   {
    "duration": 7,
    "start_time": "2021-12-15T13:25:49.643Z"
   },
   {
    "duration": 8,
    "start_time": "2021-12-15T13:27:45.097Z"
   },
   {
    "duration": 14,
    "start_time": "2021-12-15T13:40:32.458Z"
   },
   {
    "duration": 16,
    "start_time": "2021-12-15T13:41:15.482Z"
   },
   {
    "duration": 22,
    "start_time": "2021-12-15T13:41:25.362Z"
   },
   {
    "duration": 20,
    "start_time": "2021-12-15T13:41:45.497Z"
   },
   {
    "duration": 24,
    "start_time": "2021-12-15T13:41:52.582Z"
   },
   {
    "duration": 11,
    "start_time": "2021-12-15T13:48:48.304Z"
   },
   {
    "duration": 5,
    "start_time": "2021-12-15T13:49:09.313Z"
   },
   {
    "duration": 50,
    "start_time": "2021-12-15T13:49:09.319Z"
   },
   {
    "duration": 5,
    "start_time": "2021-12-15T13:49:09.372Z"
   },
   {
    "duration": 5,
    "start_time": "2021-12-15T13:49:09.382Z"
   },
   {
    "duration": 10,
    "start_time": "2021-12-15T13:49:09.391Z"
   },
   {
    "duration": 350,
    "start_time": "2021-12-15T13:49:09.402Z"
   },
   {
    "duration": 9,
    "start_time": "2021-12-15T13:49:09.754Z"
   },
   {
    "duration": 11,
    "start_time": "2021-12-15T13:49:09.765Z"
   },
   {
    "duration": 6,
    "start_time": "2021-12-15T13:49:09.791Z"
   },
   {
    "duration": 11,
    "start_time": "2021-12-15T13:49:09.800Z"
   },
   {
    "duration": 8,
    "start_time": "2021-12-15T13:49:09.893Z"
   },
   {
    "duration": 90,
    "start_time": "2021-12-15T13:49:09.904Z"
   },
   {
    "duration": 11,
    "start_time": "2021-12-15T13:49:09.997Z"
   },
   {
    "duration": 11,
    "start_time": "2021-12-15T13:49:10.010Z"
   },
   {
    "duration": 10,
    "start_time": "2021-12-15T13:49:10.023Z"
   },
   {
    "duration": 4,
    "start_time": "2021-12-15T13:49:44.074Z"
   },
   {
    "duration": 60,
    "start_time": "2021-12-15T13:49:44.080Z"
   },
   {
    "duration": 7,
    "start_time": "2021-12-15T13:49:44.142Z"
   },
   {
    "duration": 5,
    "start_time": "2021-12-15T13:49:44.150Z"
   },
   {
    "duration": 12,
    "start_time": "2021-12-15T13:49:44.156Z"
   },
   {
    "duration": 376,
    "start_time": "2021-12-15T13:49:44.169Z"
   },
   {
    "duration": 8,
    "start_time": "2021-12-15T13:49:44.546Z"
   },
   {
    "duration": 6,
    "start_time": "2021-12-15T13:49:44.556Z"
   },
   {
    "duration": 33,
    "start_time": "2021-12-15T13:49:44.565Z"
   },
   {
    "duration": 93,
    "start_time": "2021-12-15T13:49:44.600Z"
   },
   {
    "duration": 97,
    "start_time": "2021-12-15T13:49:44.696Z"
   },
   {
    "duration": 5,
    "start_time": "2021-12-15T13:49:44.795Z"
   },
   {
    "duration": 10,
    "start_time": "2021-12-15T13:49:44.802Z"
   },
   {
    "duration": 10,
    "start_time": "2021-12-15T13:49:44.815Z"
   },
   {
    "duration": 11,
    "start_time": "2021-12-15T13:49:44.827Z"
   },
   {
    "duration": 5,
    "start_time": "2021-12-15T14:10:00.753Z"
   },
   {
    "duration": 88,
    "start_time": "2021-12-15T14:10:00.760Z"
   },
   {
    "duration": 6,
    "start_time": "2021-12-15T14:10:00.850Z"
   },
   {
    "duration": 39,
    "start_time": "2021-12-15T14:10:00.858Z"
   },
   {
    "duration": 36,
    "start_time": "2021-12-15T14:10:00.899Z"
   },
   {
    "duration": 441,
    "start_time": "2021-12-15T14:10:00.937Z"
   },
   {
    "duration": 15,
    "start_time": "2021-12-15T14:10:01.380Z"
   },
   {
    "duration": 27,
    "start_time": "2021-12-15T14:10:01.397Z"
   },
   {
    "duration": 59,
    "start_time": "2021-12-15T14:10:01.426Z"
   },
   {
    "duration": 105,
    "start_time": "2021-12-15T14:10:01.487Z"
   },
   {
    "duration": 100,
    "start_time": "2021-12-15T14:10:01.594Z"
   },
   {
    "duration": 43,
    "start_time": "2021-12-15T14:10:01.696Z"
   },
   {
    "duration": 29,
    "start_time": "2021-12-15T14:10:01.741Z"
   },
   {
    "duration": 30,
    "start_time": "2021-12-15T14:10:01.772Z"
   },
   {
    "duration": 40,
    "start_time": "2021-12-15T14:10:01.804Z"
   },
   {
    "duration": 1053,
    "start_time": "2021-12-15T14:10:51.330Z"
   },
   {
    "duration": 51,
    "start_time": "2021-12-15T14:10:52.385Z"
   },
   {
    "duration": 7,
    "start_time": "2021-12-15T14:10:52.438Z"
   },
   {
    "duration": 6,
    "start_time": "2021-12-15T14:10:52.447Z"
   },
   {
    "duration": 13,
    "start_time": "2021-12-15T14:10:52.455Z"
   },
   {
    "duration": 358,
    "start_time": "2021-12-15T14:10:52.469Z"
   },
   {
    "duration": 8,
    "start_time": "2021-12-15T14:10:52.829Z"
   },
   {
    "duration": 5,
    "start_time": "2021-12-15T14:10:52.839Z"
   },
   {
    "duration": 9,
    "start_time": "2021-12-15T14:10:52.846Z"
   },
   {
    "duration": 405,
    "start_time": "2021-12-15T14:10:52.895Z"
   },
   {
    "duration": 560,
    "start_time": "2021-12-15T14:10:52.742Z"
   },
   {
    "duration": 558,
    "start_time": "2021-12-15T14:10:52.745Z"
   },
   {
    "duration": 550,
    "start_time": "2021-12-15T14:10:52.755Z"
   },
   {
    "duration": 548,
    "start_time": "2021-12-15T14:10:52.758Z"
   },
   {
    "duration": 4,
    "start_time": "2021-12-15T14:11:18.488Z"
   },
   {
    "duration": 54,
    "start_time": "2021-12-15T14:11:18.494Z"
   },
   {
    "duration": 6,
    "start_time": "2021-12-15T14:11:18.550Z"
   },
   {
    "duration": 4,
    "start_time": "2021-12-15T14:11:18.558Z"
   },
   {
    "duration": 11,
    "start_time": "2021-12-15T14:11:18.564Z"
   },
   {
    "duration": 356,
    "start_time": "2021-12-15T14:11:18.577Z"
   },
   {
    "duration": 9,
    "start_time": "2021-12-15T14:11:18.934Z"
   },
   {
    "duration": 7,
    "start_time": "2021-12-15T14:11:18.944Z"
   },
   {
    "duration": 46,
    "start_time": "2021-12-15T14:11:18.953Z"
   },
   {
    "duration": 95,
    "start_time": "2021-12-15T14:11:19.001Z"
   },
   {
    "duration": 96,
    "start_time": "2021-12-15T14:11:19.099Z"
   },
   {
    "duration": 94,
    "start_time": "2021-12-15T14:11:19.198Z"
   },
   {
    "duration": 19,
    "start_time": "2021-12-15T14:11:19.294Z"
   },
   {
    "duration": 10,
    "start_time": "2021-12-15T14:11:19.315Z"
   },
   {
    "duration": 1194,
    "start_time": "2021-12-15T14:11:25.988Z"
   },
   {
    "duration": 63,
    "start_time": "2021-12-15T14:11:27.184Z"
   },
   {
    "duration": 9,
    "start_time": "2021-12-15T14:11:27.250Z"
   },
   {
    "duration": 7,
    "start_time": "2021-12-15T14:11:27.261Z"
   },
   {
    "duration": 31,
    "start_time": "2021-12-15T14:11:27.271Z"
   },
   {
    "duration": 418,
    "start_time": "2021-12-15T14:11:27.305Z"
   },
   {
    "duration": 10,
    "start_time": "2021-12-15T14:11:27.725Z"
   },
   {
    "duration": 9,
    "start_time": "2021-12-15T14:11:27.737Z"
   },
   {
    "duration": 44,
    "start_time": "2021-12-15T14:11:27.749Z"
   },
   {
    "duration": 12,
    "start_time": "2021-12-15T14:11:27.796Z"
   },
   {
    "duration": 182,
    "start_time": "2021-12-15T14:11:27.810Z"
   },
   {
    "duration": 9,
    "start_time": "2021-12-15T14:11:27.995Z"
   },
   {
    "duration": 13,
    "start_time": "2021-12-15T14:11:28.007Z"
   },
   {
    "duration": 13,
    "start_time": "2021-12-15T14:11:28.023Z"
   },
   {
    "duration": 1171,
    "start_time": "2021-12-15T14:26:03.192Z"
   },
   {
    "duration": 49,
    "start_time": "2021-12-15T14:26:04.365Z"
   },
   {
    "duration": 7,
    "start_time": "2021-12-15T14:26:04.416Z"
   },
   {
    "duration": 6,
    "start_time": "2021-12-15T14:26:04.424Z"
   },
   {
    "duration": 11,
    "start_time": "2021-12-15T14:26:04.431Z"
   },
   {
    "duration": 375,
    "start_time": "2021-12-15T14:26:04.443Z"
   },
   {
    "duration": 8,
    "start_time": "2021-12-15T14:26:04.820Z"
   },
   {
    "duration": 7,
    "start_time": "2021-12-15T14:26:04.829Z"
   },
   {
    "duration": 13,
    "start_time": "2021-12-15T14:26:04.838Z"
   },
   {
    "duration": 48,
    "start_time": "2021-12-15T14:26:04.853Z"
   },
   {
    "duration": 98,
    "start_time": "2021-12-15T14:26:04.903Z"
   },
   {
    "duration": 92,
    "start_time": "2021-12-15T14:26:05.003Z"
   },
   {
    "duration": 10,
    "start_time": "2021-12-15T14:26:05.097Z"
   },
   {
    "duration": 9,
    "start_time": "2021-12-15T14:26:05.109Z"
   },
   {
    "duration": 332,
    "start_time": "2021-12-15T14:26:58.450Z"
   },
   {
    "duration": 6,
    "start_time": "2021-12-15T14:27:43.324Z"
   },
   {
    "duration": 29,
    "start_time": "2021-12-15T14:27:52.980Z"
   },
   {
    "duration": 60,
    "start_time": "2021-12-15T17:29:01.173Z"
   },
   {
    "duration": 314,
    "start_time": "2021-12-15T18:20:26.106Z"
   },
   {
    "duration": 3,
    "start_time": "2021-12-15T18:20:35.612Z"
   },
   {
    "duration": 251,
    "start_time": "2021-12-15T18:20:45.778Z"
   },
   {
    "duration": 260,
    "start_time": "2021-12-15T18:22:36.221Z"
   },
   {
    "duration": 1217,
    "start_time": "2021-12-15T18:22:45.410Z"
   },
   {
    "duration": 75,
    "start_time": "2021-12-15T18:22:46.629Z"
   },
   {
    "duration": 6,
    "start_time": "2021-12-15T18:22:46.706Z"
   },
   {
    "duration": 16,
    "start_time": "2021-12-15T18:22:46.714Z"
   },
   {
    "duration": 31,
    "start_time": "2021-12-15T18:22:46.732Z"
   },
   {
    "duration": 339,
    "start_time": "2021-12-15T18:22:46.765Z"
   },
   {
    "duration": 4,
    "start_time": "2021-12-15T18:22:47.105Z"
   },
   {
    "duration": 24,
    "start_time": "2021-12-15T18:22:47.112Z"
   },
   {
    "duration": 32,
    "start_time": "2021-12-15T18:22:47.138Z"
   },
   {
    "duration": 41,
    "start_time": "2021-12-15T18:22:47.172Z"
   },
   {
    "duration": 37,
    "start_time": "2021-12-15T18:22:47.215Z"
   },
   {
    "duration": 93,
    "start_time": "2021-12-15T18:22:47.254Z"
   },
   {
    "duration": 9,
    "start_time": "2021-12-15T18:22:47.350Z"
   },
   {
    "duration": 17,
    "start_time": "2021-12-15T18:22:47.444Z"
   },
   {
    "duration": 23,
    "start_time": "2021-12-15T18:22:47.463Z"
   },
   {
    "duration": 5,
    "start_time": "2021-12-15T18:24:20.578Z"
   },
   {
    "duration": 6,
    "start_time": "2021-12-15T18:24:26.952Z"
   },
   {
    "duration": 5,
    "start_time": "2021-12-15T18:24:48.141Z"
   },
   {
    "duration": 5,
    "start_time": "2021-12-15T18:25:34.817Z"
   },
   {
    "duration": 45,
    "start_time": "2021-12-15T18:42:48.480Z"
   },
   {
    "duration": 43,
    "start_time": "2021-12-15T18:42:54.848Z"
   },
   {
    "duration": -309,
    "start_time": "2021-12-15T18:49:34.349Z"
   },
   {
    "duration": -296,
    "start_time": "2021-12-15T18:51:44.715Z"
   },
   {
    "duration": 89,
    "start_time": "2021-12-15T18:51:50.562Z"
   },
   {
    "duration": 7,
    "start_time": "2021-12-15T18:51:56.168Z"
   },
   {
    "duration": 9,
    "start_time": "2021-12-15T18:52:16.241Z"
   },
   {
    "duration": 7,
    "start_time": "2021-12-15T18:52:54.667Z"
   },
   {
    "duration": 8,
    "start_time": "2021-12-15T18:53:02.298Z"
   },
   {
    "duration": 7,
    "start_time": "2021-12-15T18:53:14.882Z"
   },
   {
    "duration": -292,
    "start_time": "2021-12-15T18:55:29.046Z"
   },
   {
    "duration": -274,
    "start_time": "2021-12-15T18:56:09.937Z"
   },
   {
    "duration": -288,
    "start_time": "2021-12-15T18:56:55.617Z"
   },
   {
    "duration": 8,
    "start_time": "2021-12-15T18:57:48.471Z"
   },
   {
    "duration": 8,
    "start_time": "2021-12-15T18:57:53.432Z"
   },
   {
    "duration": 8,
    "start_time": "2021-12-15T18:58:12.683Z"
   },
   {
    "duration": 8,
    "start_time": "2021-12-15T18:58:15.532Z"
   },
   {
    "duration": 8,
    "start_time": "2021-12-15T18:58:36.249Z"
   },
   {
    "duration": 1156,
    "start_time": "2021-12-15T19:08:44.359Z"
   },
   {
    "duration": 48,
    "start_time": "2021-12-15T19:08:45.516Z"
   },
   {
    "duration": 7,
    "start_time": "2021-12-15T19:08:45.569Z"
   },
   {
    "duration": 4,
    "start_time": "2021-12-15T19:08:45.578Z"
   },
   {
    "duration": 10,
    "start_time": "2021-12-15T19:08:45.583Z"
   },
   {
    "duration": 346,
    "start_time": "2021-12-15T19:08:45.595Z"
   },
   {
    "duration": 8,
    "start_time": "2021-12-15T19:08:45.944Z"
   },
   {
    "duration": 8,
    "start_time": "2021-12-15T19:08:45.954Z"
   },
   {
    "duration": 17,
    "start_time": "2021-12-15T19:08:45.963Z"
   },
   {
    "duration": 71,
    "start_time": "2021-12-15T19:08:45.983Z"
   },
   {
    "duration": 91,
    "start_time": "2021-12-15T19:08:46.056Z"
   },
   {
    "duration": 10,
    "start_time": "2021-12-15T19:08:46.150Z"
   },
   {
    "duration": 7,
    "start_time": "2021-12-15T19:08:46.244Z"
   },
   {
    "duration": 17,
    "start_time": "2021-12-15T19:08:46.253Z"
   },
   {
    "duration": 1127,
    "start_time": "2021-12-15T19:25:37.682Z"
   },
   {
    "duration": 48,
    "start_time": "2021-12-15T19:25:38.811Z"
   },
   {
    "duration": 7,
    "start_time": "2021-12-15T19:25:38.864Z"
   },
   {
    "duration": 6,
    "start_time": "2021-12-15T19:25:38.872Z"
   },
   {
    "duration": 10,
    "start_time": "2021-12-15T19:25:38.879Z"
   },
   {
    "duration": 343,
    "start_time": "2021-12-15T19:25:38.891Z"
   },
   {
    "duration": 13,
    "start_time": "2021-12-15T19:25:39.237Z"
   },
   {
    "duration": 6,
    "start_time": "2021-12-15T19:25:39.253Z"
   },
   {
    "duration": 13,
    "start_time": "2021-12-15T19:25:39.261Z"
   },
   {
    "duration": 76,
    "start_time": "2021-12-15T19:25:39.276Z"
   },
   {
    "duration": 93,
    "start_time": "2021-12-15T19:25:39.354Z"
   },
   {
    "duration": 95,
    "start_time": "2021-12-15T19:25:39.450Z"
   },
   {
    "duration": 12,
    "start_time": "2021-12-15T19:25:39.547Z"
   },
   {
    "duration": 15,
    "start_time": "2021-12-15T19:25:39.561Z"
   }
  ],
  "kernelspec": {
   "display_name": "Python 3",
   "language": "python",
   "name": "python3"
  },
  "language_info": {
   "codemirror_mode": {
    "name": "ipython",
    "version": 3
   },
   "file_extension": ".py",
   "mimetype": "text/x-python",
   "name": "python",
   "nbconvert_exporter": "python",
   "pygments_lexer": "ipython3",
   "version": "3.8.8"
  },
  "toc": {
   "base_numbering": 1,
   "nav_menu": {},
   "number_sections": false,
   "sideBar": true,
   "skip_h1_title": true,
   "title_cell": "Содержание",
   "title_sidebar": "Contents",
   "toc_cell": true,
   "toc_position": {
    "height": "calc(100% - 180px)",
    "left": "10px",
    "top": "150px",
    "width": "443.025px"
   },
   "toc_section_display": true,
   "toc_window_display": true
  }
 },
 "nbformat": 4,
 "nbformat_minor": 2
}
